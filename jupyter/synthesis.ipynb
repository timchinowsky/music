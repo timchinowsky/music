{
 "cells": [
  {
   "cell_type": "code",
   "execution_count": 10,
   "metadata": {},
   "outputs": [],
   "source": [
    "# Play clicks on the beat\n",
    "\n",
    "from pyo import *\n",
    "s = Server().boot()\n",
    "s.start()\n",
    "d_snds = ['alum3.wav']\n",
    "d_tabs = SndTable(snds)\n",
    "d_seq = Seq(time=.5, seq=[1,.5,1,.5,0],onlyonce=False).play()\n",
    "d_amp = TrigEnv(seq, tabs, dur=.25, mul=.25).out()\n",
    "\n"
   ]
  },
  {
   "cell_type": "code",
   "execution_count": 3,
   "metadata": {},
   "outputs": [],
   "source": [
    "# Play clicks and recorded track at same time\n",
    "\n",
    "from pyo import *\n",
    "s = Server().boot()\n",
    "s.start()\n",
    "snds = ['violin D major scale 50piV6SES6BqXrBldVW57I.wav']\n",
    "snds = ['violin D major scale w piano 2bqfMrkx6iaCzJ6vXtAHsX.wav']\n",
    "tabs = SndTable(snds)\n",
    "d = tabs.getDur()\n",
    "seq = Seq(time=0, seq=[0],onlyonce=True).play()\n",
    "\n",
    "d_snds = ['alum3.wav']\n",
    "d_tabs = SndTable(d_snds)\n",
    "d_seq = Seq(time=.5, seq=[1,.5,1,.5,0],onlyonce=False).play()\n",
    "\n",
    "amp = TrigEnv(seq, tabs, dur=d, mul=.25).out()\n",
    "d_amp = TrigEnv(d_seq, d_tabs, dur=.25, mul=.25).out()\n",
    "\n"
   ]
  },
  {
   "cell_type": "code",
   "execution_count": 28,
   "metadata": {},
   "outputs": [
    {
     "name": "stdout",
     "output_type": "stream",
     "text": [
      "17  bars,  50  segments, 71  beats 142  tatums\n"
     ]
    },
    {
     "data": {
      "image/png": "[encoded data removed]",
      "text/plain": [
       "<matplotlib.figure.Figure at 0x73797b0>"
      ]
     },
     "metadata": {},
     "output_type": "display_data"
    }
   ],
   "source": [
    "# get spotify analysis for specified track\n",
    "\n",
    "%matplotlib inline\n",
    "import spotipy\n",
    "import spotipy.util as util\n",
    "import json\n",
    "import matplotlib.pyplot as plt\n",
    "import numpy as np\n",
    "import matplotlib as mpl\n",
    "mpl.rcParams['figure.figsize'] = (16,4)\n",
    "\n",
    "track = '2bqfMrkx6iaCzJ6vXtAHsX'\n",
    "#track = '50piV6SES6BqXrBldVW57I'\n",
    "\n",
    "scope = 'user-library-read'\n",
    "token = util.prompt_for_user_token('5gc3kt2m0fhoq1bnadvaxzzo9',scope,client_id='7d1eac2d7f7c441c8ddfe339296e2e00',client_secret='1032f5fd209c49d9a69dde6e39dafaad',redirect_uri='https://www.google.com/')\n",
    "spotify = spotipy.Spotify(auth=token)\n",
    "analysis=spotify.audio_analysis(track)\n",
    "json = json.dumps(analysis)\n",
    "f = open(\"c:/data/analysis_\"+track+\".json\",\"w\")\n",
    "f.write(json)\n",
    "f.close()\n",
    "\n",
    "n_bars = len(analysis['bars'])\n",
    "n_segments = len(analysis['segments'])\n",
    "n_beats = len(analysis['beats'])\n",
    "n_tatums = len(analysis['tatums'])\n",
    "\n",
    "print n_bars,'bars, ', n_segments, 'segments,', n_beats, 'beats,', n_tatums, 'tatums'\n",
    "\n",
    "bar_starts = [ k['start'] for k in analysis['bars'] ]\n",
    "bar_ends = [ k['start']+k['duration'] for k in analysis['bars'] ]\n",
    "\n",
    "segment_starts = [ k['start'] for k in analysis['segments'] ]\n",
    "segment_ends = [ k['start']+k['duration'] for k in analysis['segments'] ]\n",
    "\n",
    "beat_starts = [ k['start'] for k in analysis['beats'] ]\n",
    "beat_ends = [ k['start']+k['duration'] for k in analysis['beats'] ]\n",
    "\n",
    "tatum_starts = [ k['start'] for k in analysis['tatums'] ]\n",
    "tatum_ends = [ k['start']+k['duration'] for k in analysis['tatums'] ]\n",
    "\n",
    "plt.plot([bar_starts, bar_ends], [[0]*len(bar_starts), [0]*len(bar_starts)])\n",
    "\n",
    "plt.plot([segment_starts, segment_ends], [[1]*len(segment_starts), [1]*len(segment_starts)])\n",
    "\n",
    "plt.plot([beat_starts, beat_ends], [[2]*len(beat_starts), [2]*len(beat_starts)])\n",
    "\n",
    "plt.plot([tatum_starts, tatum_ends], [[3]*len(tatum_starts), [3]*len(tatum_starts)])\n",
    "\n",
    "plt.title('Bars, segments, beats, tatums');\n",
    "\n"
   ]
  }
 ],
 "metadata": {
  "kernelspec": {
   "display_name": "Python 2",
   "language": "python",
   "name": "python2"
  },
  "language_info": {
   "codemirror_mode": {
    "name": "ipython",
    "version": 2
   },
   "file_extension": ".py",
   "mimetype": "text/x-python",
   "name": "python",
   "nbconvert_exporter": "python",
   "pygments_lexer": "ipython2",
   "version": "2.7.14"
  }
 },
 "nbformat": 4,
 "nbformat_minor": 2
}
